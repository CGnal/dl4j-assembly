{
 "cells": [
  {
   "cell_type": "code",
   "execution_count": null,
   "metadata": {
    "collapsed": false
   },
   "outputs": [],
   "source": [
    "%cleanup -f"
   ]
  },
  {
   "cell_type": "code",
   "execution_count": null,
   "metadata": {
    "collapsed": false
   },
   "outputs": [],
   "source": [
    "%%configure -f\n",
    "{\"jars\":[\"/user/livy/repl_jars/dl4j-assembly-0.6.0.jar\"],\"driverMemory\":\"3g\",\"executorMemory\":\"2g\",\"conf\":{\"spark.driver.extraClassPath\":\"/home/livy/dl4j-assembly-0.6.0.jar\",\"spark.serializer\":\"org.apache.spark.serializer.KryoSerializer\",\"spark.kryo.registrator\":\"org.nd4j.Nd4jRegistrator\"}}"
   ]
  },
  {
   "cell_type": "code",
   "execution_count": null,
   "metadata": {
    "collapsed": false
   },
   "outputs": [],
   "source": [
    "sc"
   ]
  },
  {
   "cell_type": "code",
   "execution_count": null,
   "metadata": {
    "collapsed": false
   },
   "outputs": [],
   "source": [
    "import org.nd4j.linalg.api.ndarray.INDArray\n",
    "import org.nd4j.linalg.factory.Nd4j"
   ]
  },
  {
   "cell_type": "code",
   "execution_count": null,
   "metadata": {
    "collapsed": false
   },
   "outputs": [],
   "source": [
    "val nRows = 3\n",
    "val nColumns = 5\n",
    "val myArray = Nd4j.zeros(nRows, nColumns)"
   ]
  },
  {
   "cell_type": "code",
   "execution_count": null,
   "metadata": {
    "collapsed": false
   },
   "outputs": [],
   "source": [
    "myArray.putScalar(0, 1, 2.0)           \n",
    "myArray.putScalar(2, 3, 5.0)"
   ]
  },
  {
   "cell_type": "code",
   "execution_count": null,
   "metadata": {
    "collapsed": false
   },
   "outputs": [],
   "source": [
    "val myArray2 = myArray.add(1.0)"
   ]
  },
  {
   "cell_type": "code",
   "execution_count": null,
   "metadata": {
    "collapsed": false
   },
   "outputs": [],
   "source": [
    "val vectorDouble = Array[Double](1,2,3)\n",
    "val rowVector = Nd4j.create(vectorDouble)"
   ]
  },
  {
   "cell_type": "code",
   "execution_count": null,
   "metadata": {
    "collapsed": false
   },
   "outputs": [],
   "source": [
    "val columnVector = Nd4j.create(vectorDouble, Array(3,1))"
   ]
  },
  {
   "cell_type": "code",
   "execution_count": null,
   "metadata": {
    "collapsed": false
   },
   "outputs": [],
   "source": [
    "val matrixDouble = Array(\n",
    "                    Array(1.0, 2.0, 3.0),\n",
    "                    Array(4.0, 5.0, 6.0)\n",
    "                  )\n",
    "val matrix = Nd4j.create(matrixDouble)"
   ]
  },
  {
   "cell_type": "code",
   "execution_count": null,
   "metadata": {
    "collapsed": false
   },
   "outputs": [],
   "source": [
    "val shape = Array(nRows, nColumns)\n",
    "val uniformRandom = Nd4j.rand(shape)"
   ]
  },
  {
   "cell_type": "code",
   "execution_count": null,
   "metadata": {
    "collapsed": false
   },
   "outputs": [],
   "source": [
    "val gaussianMeanZeroUnitVariance = Nd4j.randn(shape)"
   ]
  },
  {
   "cell_type": "code",
   "execution_count": null,
   "metadata": {
    "collapsed": false
   },
   "outputs": [],
   "source": [
    "val rngSeed = 12345\n",
    "val uniformRandom2 = Nd4j.rand(shape, rngSeed)\n",
    "val uniformRandom3 = Nd4j.rand(shape, rngSeed)"
   ]
  },
  {
   "cell_type": "code",
   "execution_count": null,
   "metadata": {
    "collapsed": false
   },
   "outputs": [],
   "source": [
    "val first = Nd4j.rand(3,4)\n",
    "val second = Nd4j.rand(4,5)\n",
    "val mmul = first.mmul(second)"
   ]
  }
 ],
 "metadata": {
  "kernelspec": {
   "display_name": "Spark",
   "language": "",
   "name": "sparkkernel"
  },
  "language_info": {
   "codemirror_mode": "text/x-scala",
   "mimetype": "text/x-scala",
   "name": "scala",
   "pygments_lexer": "scala"
  },
  "widgets": {
   "state": {},
   "version": "1.1.2"
  }
 },
 "nbformat": 4,
 "nbformat_minor": 0
}