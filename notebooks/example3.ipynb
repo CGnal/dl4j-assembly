{
 "cells": [
  {
   "cell_type": "code",
   "execution_count": 14,
   "metadata": {
    "collapsed": false,
    "scrolled": true
   },
   "outputs": [
    {
     "data": {
      "text/html": [
       "Current session configs: <tt>{u'jars': [u'/user/livy/repl_jars/dl4j-assembly-0.6.0.jar'], u'executorMemory': u'2g', u'kind': 'spark', u'conf': {u'spark.driver.extraClassPath': u'/home/livy/dl4j-assembly-0.6.0.jar', u'spark.kryo.registrator': u'org.nd4j.Nd4jRegistrator', u'spark.serializer': u'org.apache.spark.serializer.KryoSerializer'}, u'driverMemory': u'3g'}</tt><br>"
      ],
      "text/plain": [
       "<IPython.core.display.HTML object>"
      ]
     },
     "metadata": {},
     "output_type": "display_data"
    },
    {
     "data": {
      "text/html": [
       "No active sessions."
      ],
      "text/plain": [
       "<IPython.core.display.HTML object>"
      ]
     },
     "metadata": {},
     "output_type": "display_data"
    }
   ],
   "source": [
    "%%configure -f\n",
    "{\"jars\":[\"/user/livy/repl_jars/dl4j-assembly-0.6.0.jar\"],\"driverMemory\":\"3g\",\"executorMemory\":\"2g\",\"conf\":{\"spark.driver.extraClassPath\":\"/home/livy/dl4j-assembly-0.6.0.jar\",\"spark.serializer\":\"org.apache.spark.serializer.KryoSerializer\",\"spark.kryo.registrator\":\"org.nd4j.Nd4jRegistrator\"}}"
   ]
  },
  {
   "cell_type": "code",
   "execution_count": 15,
   "metadata": {
    "collapsed": false
   },
   "outputs": [
    {
     "name": "stdout",
     "output_type": "stream",
     "text": [
      "Creating SparkContext as 'sc'\n"
     ]
    },
    {
     "data": {
      "text/html": [
       "<table>\n",
       "<tr><th>ID</th><th>YARN Application ID</th><th>Kind</th><th>State</th><th>Spark UI</th><th>Driver log</th><th>Current session?</th></tr><tr><td>1</td><td>application_1476777146650_0020</td><td>spark</td><td>idle</td><td><a target=\"_blank\" href=\"https://snowwhite.fairytales:8090/proxy/application_1476777146650_0020/\">Link</a></td><td><a target=\"_blank\" href=\"//sleepy.fairytales:8044/node/containerlogs/container_1476777146650_0020_01_000001/dgreco\">Link</a></td><td>✔</td></tr></table>"
      ],
      "text/plain": [
       "<IPython.core.display.HTML object>"
      ]
     },
     "metadata": {},
     "output_type": "display_data"
    },
    {
     "name": "stdout",
     "output_type": "stream",
     "text": [
      "Creating HiveContext as 'sqlContext'\n",
      "SparkContext and HiveContext created. Executing user code ...\n",
      "rawData: org.apache.spark.rdd.RDD[String] = data/mls/ch05/train.tsv MapPartitionsRDD[1] at textFile at <console>:27"
     ]
    }
   ],
   "source": [
    "val rawData = sc.textFile(\"data/mls/ch05/train.tsv\")"
   ]
  },
  {
   "cell_type": "code",
   "execution_count": 16,
   "metadata": {
    "collapsed": false
   },
   "outputs": [
    {
     "name": "stdout",
     "output_type": "stream",
     "text": [
      "7395"
     ]
    }
   ],
   "source": [
    "import org.apache.spark.mllib.linalg.Vectors\n",
    "import org.apache.spark.mllib.regression.LabeledPoint\n",
    "\n",
    "val rawDataNoHeader = rawData.filter(line => !line.contains(\"hasDomainLink\"))\n",
    "\n",
    "val records = rawDataNoHeader.map(line => line.split(\"\\t\"))\n",
    "\n",
    "val data = records.map { r =>\n",
    "  val trimmed = r.map(_.replaceAll(\"\\\"\", \"\"))\n",
    "  val label = trimmed(r.size - 1).toInt\n",
    "  val features = trimmed.slice(4, r.size - 1).map(d => if (d == \"?\") 0.0 else d.toDouble)\n",
    "  LabeledPoint(label.toDouble, Vectors.dense(features))\n",
    "}\n",
    "\n",
    "data.cache\n",
    "println(data.count)"
   ]
  },
  {
   "cell_type": "code",
   "execution_count": 17,
   "metadata": {
    "collapsed": false
   },
   "outputs": [
    {
     "name": "stdout",
     "output_type": "stream",
     "text": [
      "dataNB: org.apache.spark.rdd.RDD[org.apache.spark.mllib.regression.LabeledPoint] = MapPartitionsRDD[13] at map at <console>:40"
     ]
    }
   ],
   "source": [
    "val categories = records.map(r => r(3)).distinct.collect.zipWithIndex.toMap\n",
    "val numCategories = categories.size\n",
    "println(categories)\n",
    "println(numCategories)\n",
    "\n",
    "val dataCategories = records.map { r =>\n",
    "  val trimmed = r.map(_.replaceAll(\"\\\"\", \"\"))\n",
    "  val label = trimmed(r.size - 1).toInt\n",
    "  val categoryIdx = categories(r(3))\n",
    "  val categoryFeatures = Array.ofDim[Double](numCategories)\n",
    "  categoryFeatures(categoryIdx) = 1.0\n",
    "  val otherFeatures = trimmed.slice(4, r.size - 1).map(d => if (d == \"?\") 0.0 else d.toDouble)\n",
    "  val features = categoryFeatures ++ otherFeatures\n",
    "  LabeledPoint(label, Vectors.dense(features))\n",
    "}\n",
    "\n",
    "import org.apache.spark.mllib.feature.StandardScaler\n",
    "val scalerCats = new StandardScaler(withMean = true, withStd = true).fit(dataCategories.map(lp => lp.features))\n",
    "val scaledDataCats = dataCategories.map(lp => LabeledPoint(lp.label, scalerCats.transform(lp.features)))\n",
    "val dataNB = records.map { r =>\n",
    "  val trimmed = r.map(_.replaceAll(\"\\\"\", \"\"))\n",
    "  val label = trimmed(r.size - 1).toInt\n",
    "  val categoryIdx = categories(r(3))\n",
    "  val categoryFeatures = Array.ofDim[Double](numCategories)\n",
    "  categoryFeatures(categoryIdx) = 1.0\n",
    "  LabeledPoint(label, Vectors.dense(categoryFeatures))\n",
    "}"
   ]
  },
  {
   "cell_type": "code",
   "execution_count": 18,
   "metadata": {
    "collapsed": false
   },
   "outputs": [
    {
     "name": "stdout",
     "output_type": "stream",
     "text": [
      "test: org.apache.spark.rdd.RDD[org.apache.spark.mllib.regression.LabeledPoint] = MapPartitionsRDD[15] at randomSplit at <console>:46"
     ]
    }
   ],
   "source": [
    "val trainTestSplit = scaledDataCats.randomSplit(Array(0.6, 0.4), 123)\n",
    "val train = trainTestSplit(0)\n",
    "val test = trainTestSplit(1)"
   ]
  },
  {
   "cell_type": "code",
   "execution_count": 19,
   "metadata": {
    "collapsed": false
   },
   "outputs": [
    {
     "name": "stdout",
     "output_type": "stream",
     "text": [
      "batchSizePerWorker: Int = 16"
     ]
    }
   ],
   "source": [
    "val iterations = 10\n",
    "val seed = 123\n",
    "val learningRate = 0.005\n",
    "val nEpochs = 20\n",
    "val numInputs = 36\n",
    "val numOutputs = 2\n",
    "val numHiddenNodes = 30\n",
    "val batchSizePerWorker = 16"
   ]
  },
  {
   "cell_type": "code",
   "execution_count": 20,
   "metadata": {
    "collapsed": false
   },
   "outputs": [
    {
     "name": "stdout",
     "output_type": "stream",
     "text": [
      "nnconf: org.deeplearning4j.nn.conf.MultiLayerConfiguration = \n",
      "{\n",
      "  \"backprop\" : true,\n",
      "  \"backpropType\" : \"Standard\",\n",
      "  \"confs\" : [ {\n",
      "    \"extraArgs\" : [ 0 ],\n",
      "    \"l1ByParam\" : { },\n",
      "    \"l2ByParam\" : { },\n",
      "    \"layer\" : {\n",
      "      \"dense\" : {\n",
      "        \"activationFunction\" : \"relu\",\n",
      "        \"adamMeanDecay\" : \"NaN\",\n",
      "        \"adamVarDecay\" : \"NaN\",\n",
      "        \"biasInit\" : 0.0,\n",
      "        \"biasL1\" : 0.0,\n",
      "        \"biasL2\" : 0.0,\n",
      "        \"biasLearningRate\" : 0.005,\n",
      "        \"dist\" : null,\n",
      "        \"dropOut\" : 0.0,\n",
      "        \"epsilon\" : \"NaN\",\n",
      "        \"gradientNormalization\" : \"None\",\n",
      "        \"gradientNormalizationThreshold\" : 1.0,\n",
      "        \"l1\" : 0.0,\n",
      "        \"l2\" : 0.0,\n",
      "        \"layerName\" : null,\n",
      "        \"learningRate\" : 0.005,\n",
      "        \"learningRateSchedule\" : null,\n",
      "        \"momentum\" : 0.9,\n",
      "        \"momentu..."
     ]
    }
   ],
   "source": [
    "import org.deeplearning4j.datasets.iterator.impl.MnistDataSetIterator\n",
    "import org.deeplearning4j.nn.api.OptimizationAlgorithm\n",
    "import org.deeplearning4j.nn.conf.layers.{ DenseLayer, OutputLayer }\n",
    "import org.deeplearning4j.nn.conf.{ NeuralNetConfiguration, Updater }\n",
    "import org.deeplearning4j.nn.weights.WeightInit\n",
    "import org.deeplearning4j.spark.api.{ Repartition, RepartitionStrategy }\n",
    "import org.deeplearning4j.spark.impl.multilayer.SparkDl4jMultiLayer\n",
    "import org.deeplearning4j.spark.impl.paramavg.ParameterAveragingTrainingMaster\n",
    "import org.deeplearning4j.spark.stats.StatsUtils\n",
    "import org.nd4j.linalg.dataset.DataSet\n",
    "import org.nd4j.linalg.lossfunctions.LossFunctions._\n",
    "\n",
    "val nnconf = new NeuralNetConfiguration.Builder().\n",
    "                seed(seed).\n",
    "                iterations(iterations).\n",
    "                optimizationAlgo(OptimizationAlgorithm.STOCHASTIC_GRADIENT_DESCENT).\n",
    "                learningRate(learningRate).\n",
    "                updater(Updater.NESTEROVS).momentum(0.9).\n",
    "                list().\n",
    "                layer(0, new DenseLayer.Builder().\n",
    "                               nIn(numInputs).\n",
    "                               nOut(numHiddenNodes).\n",
    "                               weightInit(WeightInit.XAVIER).\n",
    "                               activation(\"relu\").\n",
    "                               build()).\n",
    "                layer(1, new OutputLayer.Builder(LossFunction.NEGATIVELOGLIKELIHOOD).\n",
    "                               weightInit(WeightInit.XAVIER).\n",
    "                               activation(\"softmax\").\n",
    "                               nIn(numHiddenNodes).nOut(numOutputs).\n",
    "                               build()).\n",
    "                pretrain(false).backprop(true).build()\n"
   ]
  },
  {
   "cell_type": "code",
   "execution_count": 21,
   "metadata": {
    "collapsed": false
   },
   "outputs": [
    {
     "name": "stdout",
     "output_type": "stream",
     "text": [
      "tm: org.deeplearning4j.spark.impl.paramavg.ParameterAveragingTrainingMaster = ParameterAveragingTrainingMaster(saveUpdater=true, numWorkers=null, rddDataSetNumExamples=16, batchSizePerWorker=16, averagingFrequency=10, prefetchNumBatches=2, collectTrainingStats=false, stats=null, listeners=null, iterationCount=0, repartition=Always, repartitionStrategy=SparkDefault, storageLevel=StorageLevel(false, true, false, false, 1), storageLevelStreams=StorageLevel(false, true, false, true, 1), rddTrainingApproach=Export, exportDirectory=null, rng=java.util.Random@f6f6e0e, lastExportedRDDId=-2147483648, lastRDDExportPath=null, trainingMasterUID=1476803550950_-3ad7dce)"
     ]
    }
   ],
   "source": [
    "val tm = new ParameterAveragingTrainingMaster.Builder(batchSizePerWorker).\n",
    "    averagingFrequency(10).\n",
    "    saveUpdater(true).\n",
    "    workerPrefetchNumBatches(2).\n",
    "    batchSizePerWorker(batchSizePerWorker).\n",
    "    repartionData(Repartition.Always).\n",
    "    repartitionStrategy(RepartitionStrategy.SparkDefault).\n",
    "    build()"
   ]
  },
  {
   "cell_type": "code",
   "execution_count": 22,
   "metadata": {
    "collapsed": false
   },
   "outputs": [
    {
     "name": "stdout",
     "output_type": "stream",
     "text": [
      "sparkNet: org.deeplearning4j.spark.impl.multilayer.SparkDl4jMultiLayer = org.deeplearning4j.spark.impl.multilayer.SparkDl4jMultiLayer@5dfb69b1"
     ]
    }
   ],
   "source": [
    "val sparkNet = new SparkDl4jMultiLayer(sc, nnconf, tm)"
   ]
  },
  {
   "cell_type": "code",
   "execution_count": 23,
   "metadata": {
    "collapsed": false
   },
   "outputs": [],
   "source": [
    "for (i <- 0 until nEpochs) {\n",
    "    val _ = sparkNet.fitLabeledPoint(train)\n",
    "}"
   ]
  },
  {
   "cell_type": "code",
   "execution_count": 24,
   "metadata": {
    "collapsed": false
   },
   "outputs": [
    {
     "name": "stdout",
     "output_type": "stream",
     "text": [
      "Examples labeled as 0 classified by model as 0: 884 times\n",
      "Examples labeled as 0 classified by model as 1: 600 times\n",
      "Examples labeled as 1 classified by model as 0: 401 times\n",
      "Examples labeled as 1 classified by model as 1: 1085 times\n",
      "\n",
      "\n",
      "==========================Scores========================================\n",
      " Accuracy:  0.663\n",
      " Precision: 0.6659\n",
      " Recall:    0.6629\n",
      " F1 Score:  0.6644\n",
      "========================================================================"
     ]
    }
   ],
   "source": [
    "import org.deeplearning4j.spark.util._\n",
    "\n",
    "val evaluation = sparkNet.evaluate(MLLibUtil.fromLabeledPoint(test, 2, batchSizePerWorker))\n",
    "println(evaluation.stats())"
   ]
  },
  {
   "cell_type": "code",
   "execution_count": null,
   "metadata": {
    "collapsed": true
   },
   "outputs": [],
   "source": []
  }
 ],
 "metadata": {
  "kernelspec": {
   "display_name": "Spark",
   "language": "",
   "name": "sparkkernel"
  },
  "language_info": {
   "codemirror_mode": "text/x-scala",
   "mimetype": "text/x-scala",
   "name": "scala",
   "pygments_lexer": "scala"
  },
  "widgets": {
   "state": {},
   "version": "1.1.2"
  }
 },
 "nbformat": 4,
 "nbformat_minor": 1
}
