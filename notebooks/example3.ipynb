{
 "cells": [
  {
   "cell_type": "code",
   "execution_count": 1,
   "metadata": {
    "collapsed": false,
    "scrolled": true
   },
   "outputs": [
    {
     "data": {
      "text/html": [
       "Current session configs: <tt>{u'jars': [u'/user/livy/repl_jars/dl4j-assembly-0.6.0.jar'], u'executorMemory': u'2g', u'kind': 'spark', u'conf': {u'spark.driver.extraClassPath': u'/home/livy/dl4j-assembly-0.6.0.jar', u'spark.kryo.registrator': u'org.nd4j.Nd4jRegistrator', u'spark.serializer': u'org.apache.spark.serializer.KryoSerializer'}, u'driverMemory': u'3g'}</tt><br>"
      ],
      "text/plain": [
       "<IPython.core.display.HTML object>"
      ]
     },
     "metadata": {},
     "output_type": "display_data"
    },
    {
     "data": {
      "text/html": [
       "No active sessions."
      ],
      "text/plain": [
       "<IPython.core.display.HTML object>"
      ]
     },
     "metadata": {},
     "output_type": "display_data"
    }
   ],
   "source": [
    "%%configure -f\n",
    "{\"jars\":[\"/user/livy/repl_jars/dl4j-assembly-0.6.0.jar\"],\"driverMemory\":\"3g\",\"executorMemory\":\"2g\",\"conf\":{\"spark.driver.extraClassPath\":\"/home/livy/dl4j-assembly-0.6.0.jar\",\"spark.serializer\":\"org.apache.spark.serializer.KryoSerializer\",\"spark.kryo.registrator\":\"org.nd4j.Nd4jRegistrator\"}}"
   ]
  },
  {
   "cell_type": "code",
   "execution_count": null,
   "metadata": {
    "collapsed": false
   },
   "outputs": [
    {
     "name": "stdout",
     "output_type": "stream",
     "text": [
      "Starting Spark application\n"
     ]
    },
    {
     "data": {
      "text/html": [
       "<table>\n",
       "<tr><th>ID</th><th>YARN Application ID</th><th>Kind</th><th>State</th><th>Spark UI</th><th>Driver log</th><th>Current session?</th></tr><tr><td>1</td><td>application_1477665064581_0002</td><td>spark</td><td>idle</td><td><a target=\"_blank\" href=\"https://snowwhite.fairytales:8090/proxy/application_1477665064581_0002/\">Link</a></td><td><a target=\"_blank\" href=\"//sleepy.fairytales:8044/node/containerlogs/container_1477665064581_0002_01_000001/dgreco\">Link</a></td><td>✔</td></tr></table>"
      ],
      "text/plain": [
       "<IPython.core.display.HTML object>"
      ]
     },
     "metadata": {},
     "output_type": "display_data"
    },
    {
     "name": "stdout",
     "output_type": "stream",
     "text": [
      "SparkContext available as 'sc'.\n",
      "SqlContext available as 'sqlContext'.\n"
     ]
    }
   ],
   "source": [
    "val rawData = sc.textFile(\"data/mls/ch05/train.tsv\")"
   ]
  },
  {
   "cell_type": "code",
   "execution_count": null,
   "metadata": {
    "collapsed": false
   },
   "outputs": [],
   "source": [
    "import org.apache.spark.mllib.linalg.Vectors\n",
    "import org.apache.spark.mllib.regression.LabeledPoint\n",
    "\n",
    "val rawDataNoHeader = rawData.filter(line => !line.contains(\"hasDomainLink\"))\n",
    "\n",
    "val records = rawDataNoHeader.map(line => line.split(\"\\t\"))\n",
    "\n",
    "val data = records.map { r =>\n",
    "  val trimmed = r.map(_.replaceAll(\"\\\"\", \"\"))\n",
    "  val label = trimmed(r.size - 1).toInt\n",
    "  val features = trimmed.slice(4, r.size - 1).map(d => if (d == \"?\") 0.0 else d.toDouble)\n",
    "  LabeledPoint(label.toDouble, Vectors.dense(features))\n",
    "}\n",
    "\n",
    "data.cache\n",
    "println(data.count)"
   ]
  },
  {
   "cell_type": "code",
   "execution_count": null,
   "metadata": {
    "collapsed": false
   },
   "outputs": [],
   "source": [
    "val categories = records.map(r => r(3)).distinct.collect.zipWithIndex.toMap\n",
    "val numCategories = categories.size\n",
    "println(categories)\n",
    "println(numCategories)\n",
    "\n",
    "val dataCategories = records.map { r =>\n",
    "  val trimmed = r.map(_.replaceAll(\"\\\"\", \"\"))\n",
    "  val label = trimmed(r.size - 1).toInt\n",
    "  val categoryIdx = categories(r(3))\n",
    "  val categoryFeatures = Array.ofDim[Double](numCategories)\n",
    "  categoryFeatures(categoryIdx) = 1.0\n",
    "  val otherFeatures = trimmed.slice(4, r.size - 1).map(d => if (d == \"?\") 0.0 else d.toDouble)\n",
    "  val features = categoryFeatures ++ otherFeatures\n",
    "  LabeledPoint(label, Vectors.dense(features))\n",
    "}\n",
    "\n",
    "import org.apache.spark.mllib.feature.StandardScaler\n",
    "val scalerCats = new StandardScaler(withMean = true, withStd = true).fit(dataCategories.map(lp => lp.features))\n",
    "val scaledDataCats = dataCategories.map(lp => LabeledPoint(lp.label, scalerCats.transform(lp.features)))\n",
    "val dataNB = records.map { r =>\n",
    "  val trimmed = r.map(_.replaceAll(\"\\\"\", \"\"))\n",
    "  val label = trimmed(r.size - 1).toInt\n",
    "  val categoryIdx = categories(r(3))\n",
    "  val categoryFeatures = Array.ofDim[Double](numCategories)\n",
    "  categoryFeatures(categoryIdx) = 1.0\n",
    "  LabeledPoint(label, Vectors.dense(categoryFeatures))\n",
    "}"
   ]
  },
  {
   "cell_type": "code",
   "execution_count": null,
   "metadata": {
    "collapsed": false
   },
   "outputs": [],
   "source": [
    "val trainTestSplit = scaledDataCats.randomSplit(Array(0.6, 0.4), 123)\n",
    "val train = trainTestSplit(0)\n",
    "val test = trainTestSplit(1)"
   ]
  },
  {
   "cell_type": "code",
   "execution_count": null,
   "metadata": {
    "collapsed": false
   },
   "outputs": [],
   "source": [
    "val iterations = 10\n",
    "val seed = 123\n",
    "val learningRate = 0.005\n",
    "val nEpochs = 20\n",
    "val numInputs = 36\n",
    "val numOutputs = 2\n",
    "val numHiddenNodes = 30\n",
    "val batchSizePerWorker = 16"
   ]
  },
  {
   "cell_type": "code",
   "execution_count": null,
   "metadata": {
    "collapsed": false
   },
   "outputs": [],
   "source": [
    "import org.deeplearning4j.datasets.iterator.impl.MnistDataSetIterator\n",
    "import org.deeplearning4j.nn.api.OptimizationAlgorithm\n",
    "import org.deeplearning4j.nn.conf.layers.{ DenseLayer, OutputLayer }\n",
    "import org.deeplearning4j.nn.conf.{ NeuralNetConfiguration, Updater }\n",
    "import org.deeplearning4j.nn.weights.WeightInit\n",
    "import org.deeplearning4j.spark.api.{ Repartition, RepartitionStrategy }\n",
    "import org.deeplearning4j.spark.impl.multilayer.SparkDl4jMultiLayer\n",
    "import org.deeplearning4j.spark.impl.paramavg.ParameterAveragingTrainingMaster\n",
    "import org.deeplearning4j.spark.stats.StatsUtils\n",
    "import org.nd4j.linalg.dataset.DataSet\n",
    "import org.nd4j.linalg.lossfunctions.LossFunctions._\n",
    "\n",
    "val nnconf = new NeuralNetConfiguration.Builder().\n",
    "                seed(seed).\n",
    "                iterations(iterations).\n",
    "                optimizationAlgo(OptimizationAlgorithm.STOCHASTIC_GRADIENT_DESCENT).\n",
    "                learningRate(learningRate).\n",
    "                updater(Updater.NESTEROVS).momentum(0.9).\n",
    "                list().\n",
    "                layer(0, new DenseLayer.Builder().\n",
    "                               nIn(numInputs).\n",
    "                               nOut(numHiddenNodes).\n",
    "                               weightInit(WeightInit.XAVIER).\n",
    "                               activation(\"relu\").\n",
    "                               build()).\n",
    "                layer(1, new OutputLayer.Builder(LossFunction.NEGATIVELOGLIKELIHOOD).\n",
    "                               weightInit(WeightInit.XAVIER).\n",
    "                               activation(\"softmax\").\n",
    "                               nIn(numHiddenNodes).nOut(numOutputs).\n",
    "                               build()).\n",
    "                pretrain(false).backprop(true).build()\n"
   ]
  },
  {
   "cell_type": "code",
   "execution_count": null,
   "metadata": {
    "collapsed": false
   },
   "outputs": [],
   "source": [
    "val tm = new ParameterAveragingTrainingMaster.Builder(batchSizePerWorker).\n",
    "    averagingFrequency(10).\n",
    "    saveUpdater(true).\n",
    "    workerPrefetchNumBatches(2).\n",
    "    batchSizePerWorker(batchSizePerWorker).\n",
    "    repartionData(Repartition.Always).\n",
    "    repartitionStrategy(RepartitionStrategy.SparkDefault).\n",
    "    build()"
   ]
  },
  {
   "cell_type": "code",
   "execution_count": null,
   "metadata": {
    "collapsed": false
   },
   "outputs": [],
   "source": [
    "val sparkNet = new SparkDl4jMultiLayer(sc, nnconf, tm)"
   ]
  },
  {
   "cell_type": "code",
   "execution_count": null,
   "metadata": {
    "collapsed": false
   },
   "outputs": [],
   "source": [
    "for (i <- 0 until nEpochs) {\n",
    "    val _ = sparkNet.fitLabeledPoint(train)\n",
    "}"
   ]
  },
  {
   "cell_type": "code",
   "execution_count": null,
   "metadata": {
    "collapsed": false
   },
   "outputs": [],
   "source": [
    "import org.deeplearning4j.spark.util._\n",
    "\n",
    "val evaluation = sparkNet.evaluate(MLLibUtil.fromLabeledPoint(test, 2, batchSizePerWorker))\n",
    "println(evaluation.stats())"
   ]
  },
  {
   "cell_type": "code",
   "execution_count": null,
   "metadata": {
    "collapsed": true
   },
   "outputs": [],
   "source": []
  }
 ],
 "metadata": {
  "kernelspec": {
   "display_name": "Spark",
   "language": "",
   "name": "sparkkernel"
  },
  "language_info": {
   "codemirror_mode": "text/x-scala",
   "mimetype": "text/x-scala",
   "name": "scala",
   "pygments_lexer": "scala"
  },
  "widgets": {
   "state": {},
   "version": "1.1.2"
  }
 },
 "nbformat": 4,
 "nbformat_minor": 1
}
