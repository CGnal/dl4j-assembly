{
 "cells": [
  {
   "cell_type": "code",
   "execution_count": 1,
   "metadata": {
    "collapsed": false
   },
   "outputs": [
    {
     "data": {
      "text/html": [
       "Current session configs: <tt>{u'jars': [u'/user/livy/repl_jars/dl4j-assembly-0.6.0.jar'], u'executorMemory': u'2g', u'kind': 'spark', u'conf': {u'spark.driver.extraClassPath': u'/home/livy/dl4j-assembly-0.6.0.jar', u'spark.kryo.registrator': u'org.nd4j.Nd4jRegistrator', u'spark.serializer': u'org.apache.spark.serializer.KryoSerializer'}, u'driverMemory': u'3g'}</tt><br>"
      ],
      "text/plain": [
       "<IPython.core.display.HTML object>"
      ]
     },
     "metadata": {},
     "output_type": "display_data"
    },
    {
     "data": {
      "text/html": [
       "No active sessions."
      ],
      "text/plain": [
       "<IPython.core.display.HTML object>"
      ]
     },
     "metadata": {},
     "output_type": "display_data"
    }
   ],
   "source": [
    "%%configure -f\n",
    "{\"jars\":[\"/user/livy/repl_jars/dl4j-assembly-0.6.0.jar\"],\"driverMemory\":\"3g\",\"executorMemory\":\"2g\",\"conf\":{\"spark.driver.extraClassPath\":\"/home/livy/dl4j-assembly-0.6.0.jar\",\"spark.serializer\":\"org.apache.spark.serializer.KryoSerializer\",\"spark.kryo.registrator\":\"org.nd4j.Nd4jRegistrator\"}}"
   ]
  },
  {
   "cell_type": "code",
   "execution_count": 2,
   "metadata": {
    "collapsed": false
   },
   "outputs": [
    {
     "name": "stdout",
     "output_type": "stream",
     "text": [
      "Creating SparkContext as 'sc'\n"
     ]
    },
    {
     "data": {
      "text/html": [
       "<table>\n",
       "<tr><th>ID</th><th>YARN Application ID</th><th>Kind</th><th>State</th><th>Spark UI</th><th>Driver log</th><th>Current session?</th></tr><tr><td>4</td><td>application_1476777146650_0012</td><td>spark</td><td>idle</td><td><a target=\"_blank\" href=\"https://snowwhite.fairytales:8090/proxy/application_1476777146650_0012/\">Link</a></td><td><a target=\"_blank\" href=\"//sleepy.fairytales:8044/node/containerlogs/container_1476777146650_0012_01_000001/dgreco\">Link</a></td><td>✔</td></tr></table>"
      ],
      "text/plain": [
       "<IPython.core.display.HTML object>"
      ]
     },
     "metadata": {},
     "output_type": "display_data"
    },
    {
     "name": "stdout",
     "output_type": "stream",
     "text": [
      "Creating HiveContext as 'sqlContext'\n",
      "SparkContext and HiveContext created. Executing user code ...\n",
      "rawData: org.apache.spark.rdd.RDD[String] = data/mls/ch05/train.tsv MapPartitionsRDD[1] at textFile at <console>:27"
     ]
    }
   ],
   "source": [
    "val rawData = sc.textFile(\"data/mls/ch05/train.tsv\")"
   ]
  },
  {
   "cell_type": "code",
   "execution_count": 3,
   "metadata": {
    "collapsed": false
   },
   "outputs": [
    {
     "name": "stdout",
     "output_type": "stream",
     "text": [
      "7395"
     ]
    }
   ],
   "source": [
    "import org.apache.spark.mllib.linalg.Vectors\n",
    "import org.apache.spark.mllib.regression.LabeledPoint\n",
    "\n",
    "val rawDataNoHeader = rawData.filter(line => !line.contains(\"hasDomainLink\"))\n",
    "\n",
    "val records = rawDataNoHeader.map(line => line.split(\"\\t\"))\n",
    "\n",
    "val data = records.map { r =>\n",
    "  val trimmed = r.map(_.replaceAll(\"\\\"\", \"\"))\n",
    "  val label = trimmed(r.size - 1).toInt\n",
    "  val features = trimmed.slice(4, r.size - 1).map(d => if (d == \"?\") 0.0 else d.toDouble)\n",
    "  LabeledPoint(label.toDouble, Vectors.dense(features))\n",
    "}\n",
    "\n",
    "data.cache\n",
    "println(data.count)"
   ]
  },
  {
   "cell_type": "code",
   "execution_count": 4,
   "metadata": {
    "collapsed": false
   },
   "outputs": [
    {
     "name": "stdout",
     "output_type": "stream",
     "text": [
      "test: org.apache.spark.rdd.RDD[org.apache.spark.mllib.regression.LabeledPoint] = MapPartitionsRDD[6] at randomSplit at <console>:37"
     ]
    }
   ],
   "source": [
    "val trainTestSplit = data.randomSplit(Array(0.6, 0.4), 123)\n",
    "val train = trainTestSplit(0)\n",
    "val test = trainTestSplit(1)"
   ]
  },
  {
   "cell_type": "code",
   "execution_count": 5,
   "metadata": {
    "collapsed": false
   },
   "outputs": [
    {
     "name": "stdout",
     "output_type": "stream",
     "text": [
      "batchSizePerWorker: Int = 16"
     ]
    }
   ],
   "source": [
    "val iterations = 10\n",
    "val seed = 123\n",
    "val listenerFreq = iterations/5\n",
    "val learningRate = 0.005\n",
    "val nEpochs = 10\n",
    "\n",
    "val numInputs = 22\n",
    "val numOutputs = 2\n",
    "val numHiddenNodes = 20\n",
    "val batchSizePerWorker = 16"
   ]
  },
  {
   "cell_type": "code",
   "execution_count": 6,
   "metadata": {
    "collapsed": false
   },
   "outputs": [
    {
     "name": "stdout",
     "output_type": "stream",
     "text": [
      "nnconf: org.deeplearning4j.nn.conf.MultiLayerConfiguration = \n",
      "{\n",
      "  \"backprop\" : true,\n",
      "  \"backpropType\" : \"Standard\",\n",
      "  \"confs\" : [ {\n",
      "    \"extraArgs\" : [ 0 ],\n",
      "    \"l1ByParam\" : { },\n",
      "    \"l2ByParam\" : { },\n",
      "    \"layer\" : {\n",
      "      \"dense\" : {\n",
      "        \"activationFunction\" : \"relu\",\n",
      "        \"adamMeanDecay\" : \"NaN\",\n",
      "        \"adamVarDecay\" : \"NaN\",\n",
      "        \"biasInit\" : 0.0,\n",
      "        \"biasL1\" : 0.0,\n",
      "        \"biasL2\" : 0.0,\n",
      "        \"biasLearningRate\" : 0.005,\n",
      "        \"dist\" : null,\n",
      "        \"dropOut\" : 0.0,\n",
      "        \"epsilon\" : \"NaN\",\n",
      "        \"gradientNormalization\" : \"None\",\n",
      "        \"gradientNormalizationThreshold\" : 1.0,\n",
      "        \"l1\" : 0.0,\n",
      "        \"l2\" : 0.0,\n",
      "        \"layerName\" : null,\n",
      "        \"learningRate\" : 0.005,\n",
      "        \"learningRateSchedule\" : null,\n",
      "        \"momentum\" : 0.9,\n",
      "        \"momentu..."
     ]
    }
   ],
   "source": [
    "import org.deeplearning4j.datasets.iterator.impl.MnistDataSetIterator\n",
    "import org.deeplearning4j.nn.api.OptimizationAlgorithm\n",
    "import org.deeplearning4j.nn.conf.layers.{ DenseLayer, OutputLayer }\n",
    "import org.deeplearning4j.nn.conf.{ NeuralNetConfiguration, Updater }\n",
    "import org.deeplearning4j.nn.weights.WeightInit\n",
    "import org.deeplearning4j.spark.api.{ Repartition, RepartitionStrategy }\n",
    "import org.deeplearning4j.spark.impl.multilayer.SparkDl4jMultiLayer\n",
    "import org.deeplearning4j.spark.impl.paramavg.ParameterAveragingTrainingMaster\n",
    "import org.deeplearning4j.spark.stats.StatsUtils\n",
    "import org.nd4j.linalg.dataset.DataSet\n",
    "import org.nd4j.linalg.lossfunctions.LossFunctions._\n",
    "\n",
    "val nnconf = new NeuralNetConfiguration.Builder().\n",
    "                seed(seed).\n",
    "                iterations(iterations).\n",
    "                optimizationAlgo(OptimizationAlgorithm.STOCHASTIC_GRADIENT_DESCENT).\n",
    "                learningRate(learningRate).\n",
    "                updater(Updater.NESTEROVS).momentum(0.9).\n",
    "                list().\n",
    "                layer(0, new DenseLayer.Builder().\n",
    "                               nIn(numInputs).\n",
    "                               nOut(numHiddenNodes).\n",
    "                               weightInit(WeightInit.XAVIER).\n",
    "                               activation(\"relu\").\n",
    "                               build()).\n",
    "                layer(1, new OutputLayer.Builder(LossFunction.NEGATIVELOGLIKELIHOOD).\n",
    "                               weightInit(WeightInit.XAVIER).\n",
    "                               activation(\"softmax\").\n",
    "                               nIn(numHiddenNodes).nOut(numOutputs).\n",
    "                               build()).\n",
    "                pretrain(false).backprop(true).build()\n"
   ]
  },
  {
   "cell_type": "code",
   "execution_count": 7,
   "metadata": {
    "collapsed": false
   },
   "outputs": [
    {
     "name": "stdout",
     "output_type": "stream",
     "text": [
      "tm: org.deeplearning4j.spark.impl.paramavg.ParameterAveragingTrainingMaster = ParameterAveragingTrainingMaster(saveUpdater=true, numWorkers=null, rddDataSetNumExamples=16, batchSizePerWorker=16, averagingFrequency=10, prefetchNumBatches=2, collectTrainingStats=false, stats=null, listeners=null, iterationCount=0, repartition=Always, repartitionStrategy=SparkDefault, storageLevel=StorageLevel(false, true, false, false, 1), storageLevelStreams=StorageLevel(false, true, false, true, 1), rddTrainingApproach=Export, exportDirectory=null, rng=java.util.Random@31e6a053, lastExportedRDDId=-2147483648, lastRDDExportPath=null, trainingMasterUID=1476788962269_-438f453)"
     ]
    }
   ],
   "source": [
    "val tm = new ParameterAveragingTrainingMaster.Builder(batchSizePerWorker).\n",
    "    averagingFrequency(10).\n",
    "    saveUpdater(true).\n",
    "    workerPrefetchNumBatches(2).\n",
    "    batchSizePerWorker(batchSizePerWorker).\n",
    "    repartionData(Repartition.Always).\n",
    "    repartitionStrategy(RepartitionStrategy.SparkDefault).\n",
    "    build()"
   ]
  },
  {
   "cell_type": "code",
   "execution_count": 8,
   "metadata": {
    "collapsed": false
   },
   "outputs": [
    {
     "name": "stdout",
     "output_type": "stream",
     "text": [
      "sparkNet: org.deeplearning4j.spark.impl.multilayer.SparkDl4jMultiLayer = org.deeplearning4j.spark.impl.multilayer.SparkDl4jMultiLayer@684e5144"
     ]
    }
   ],
   "source": [
    "val sparkNet = new SparkDl4jMultiLayer(sc, nnconf, tm)"
   ]
  },
  {
   "cell_type": "code",
   "execution_count": 9,
   "metadata": {
    "collapsed": false
   },
   "outputs": [],
   "source": [
    "for (i <- 0 until nEpochs) {\n",
    "    val _ = sparkNet.fitLabeledPoint(train)\n",
    "}"
   ]
  },
  {
   "cell_type": "code",
   "execution_count": 12,
   "metadata": {
    "collapsed": false
   },
   "outputs": [
    {
     "name": "stdout",
     "output_type": "stream",
     "text": [
      "Examples labeled as 0 classified by model as 1: 1484 times\n",
      "Examples labeled as 1 classified by model as 1: 1486 times\n",
      "\n",
      "Warning: class 0 was never predicted by the model. This class was excluded from the average precision\n",
      "\n",
      "==========================Scores========================================\n",
      " Accuracy:  0.5003\n",
      " Precision: 0.5003\n",
      " Recall:    0.5\n",
      " F1 Score:  0.5002\n",
      "========================================================================"
     ]
    }
   ],
   "source": [
    "import org.deeplearning4j.spark.util._\n",
    "\n",
    "val evaluation = sparkNet.evaluate(MLLibUtil.fromLabeledPoint(test, 2, batchSizePerWorker))\n",
    "println(evaluation.stats())"
   ]
  },
  {
   "cell_type": "code",
   "execution_count": 13,
   "metadata": {
    "collapsed": false
   },
   "outputs": [
    {
     "name": "stdout",
     "output_type": "stream",
     "text": [
      "(0.0,[0.789131,2.055555556,0.676470588,0.205882353,0.047058824,0.023529412,0.443783175,0.0,0.0,0.09077381,0.0,0.245831182,0.003883495,1.0,1.0,24.0,0.0,5424.0,170.0,8.0,0.152941176,0.079129575])\n",
      "(0.0,[0.719157,2.676470588,0.5,0.222222222,0.12345679,0.043209877,0.446143274,0.0,0.0,0.024908425,0.0,0.228887247,0.050473186,1.0,1.0,14.0,0.0,12032.0,162.0,10.0,0.098765432,0.082568807])\n",
      "(0.0,[0.0,119.0,0.745454545,0.581818182,0.290909091,0.018181818,0.434639175,0.0,0.0,0.01984127,0.0,0.298299595,0.038636364,0.0,0.0,12.0,0.0,4368.0,55.0,3.0,0.054545455,0.087356322])\n",
      "(1.0,[0.22111,0.773809524,0.215053763,0.053763441,0.043010753,0.043010753,0.579596413,0.0,0.0,0.039568345,0.0,0.218978009,0.311377246,1.0,0.0,21.0,0.0,1287.0,93.0,3.0,0.548387097,0.064327485])\n",
      "(0.0,[0.0,1.883333333,0.71969697,0.265151515,0.113636364,0.015151515,0.49934811,0.0,0.0,0.02661597,0.0,0.173745927,0.025830258,0.0,0.0,5.0,0.0,27656.0,132.0,4.0,0.068181818,0.148550725])\n",
      "(1.0,[0.0,2.41011236,0.469325153,0.101226994,0.018404908,0.003067485,0.465859401,0.0,0.0,0.012,0.0,0.205116573,0.20626151,0.0,1.0,14.0,0.0,11459.0,326.0,4.0,0.236196319,0.094412331])\n",
      "(0.0,[0.89156,4.986111111,0.64,0.426666667,0.32,0.293333333,0.521064302,0.004065041,0.0,0.162689805,0.0,0.24691196,0.06097561,0.0,1.0,40.0,0.0,2701.0,75.0,8.0,0.186666667,0.115384615])\n",
      "(1.0,[0.872323,3.056910569,0.595588235,0.227941176,0.044117647,0.014705882,0.573109244,0.0,0.0,0.074576271,0.0,0.236280941,0.08411215,1.0,1.0,64.0,0.0,1062.0,136.0,9.0,0.169117647,0.180327869])\n",
      "(1.0,[0.0,0.0,0.0,0.0,0.0,0.0,21.0,-1.0,0.0,0.057692308,0.0,0.328343661,-1.0,0.0,0.0,0.0,0.0,4091.0,5.0,11.0,0.0,0.083333333])\n",
      "(0.0,[0.559991,2.299492386,0.547413793,0.206896552,0.056034483,0.017241379,0.473964868,0.0,0.0,0.078431373,1.0,0.205378622,0.036423841,0.0,1.0,37.0,0.0,3610.0,232.0,11.0,0.215517241,0.080204778])"
     ]
    }
   ],
   "source": [
    "train.take(10).foreach(println(_))"
   ]
  },
  {
   "cell_type": "code",
   "execution_count": 14,
   "metadata": {
    "collapsed": false
   },
   "outputs": [
    {
     "name": "stdout",
     "output_type": "stream",
     "text": [
      "(1.0,[0.574147,3.677966102,0.50802139,0.288770053,0.213903743,0.144385027,0.468648998,0.0,0.0,0.098707403,0.0,0.203489628,0.088652482,1.0,1.0,40.0,0.0,4973.0,187.0,9.0,0.181818182,0.125448029])\n",
      "(1.0,[0.996526,2.382882883,0.562015504,0.321705426,0.120155039,0.042635659,0.525448029,0.0,0.0,0.072447859,0.0,0.22640177,0.120535714,1.0,1.0,55.0,0.0,2240.0,258.0,11.0,0.166666667,0.057613169])\n",
      "(1.0,[0.801248,1.543103448,0.4,0.1,0.016666667,0.0,0.480724749,0.0,0.0,0.095860566,0.0,0.265655744,0.035343035,1.0,0.0,24.0,0.0,2737.0,120.0,5.0,0.041666667,0.100858369])\n",
      "(1.0,[0.0,0.471502591,0.190721649,0.036082474,0.0,0.0,0.383199079,0.0,0.0,0.021705426,0.0,0.11496229,1.136645963,1.0,0.0,17.0,0.0,2471.0,194.0,7.0,0.644329897,0.125])\n",
      "(0.0,[0.816604,2.506527415,0.637755102,0.293367347,0.091836735,0.048469388,0.592321755,0.0,0.0,0.056497175,0.0,0.223003543,0.511363636,1.0,1.0,53.0,0.0,4401.0,392.0,0.0,0.160714286,0.073684211])\n",
      "(0.0,[0.548963,0.990430622,0.522522523,0.108108108,0.009009009,0.0,0.414154653,0.0,0.0,0.054992764,0.0,0.189932886,0.075630252,0.0,0.0,54.0,0.0,883.0,222.0,4.0,0.013513514,0.059602649])\n",
      "(0.0,[0.598149,0.929824561,0.068965517,0.0,0.0,0.0,0.478354978,0.0,0.0,0.157575758,0.0,0.310008857,0.276315789,1.0,0.0,50.0,0.0,268.0,58.0,2.0,0.137931034,0.107142857])\n",
      "(0.0,[0.77292,2.083333333,0.421052632,0.178947368,0.042105263,0.0,0.462994836,0.0,0.0,0.099778271,0.0,0.232048045,0.275862069,1.0,0.0,49.0,0.0,852.0,95.0,8.0,0.305263158,0.139737991])\n",
      "(0.0,[0.941129,4.103626943,0.515555556,0.297777778,0.186666667,0.106666667,0.412429379,0.0,0.0,0.064489112,0.0,0.212927811,0.693181818,1.0,1.0,53.0,0.0,3243.0,225.0,6.0,0.208888889,0.043859649])\n",
      "(1.0,[0.0,4.327655311,0.978757515,0.895791583,0.669138277,0.422044088,0.248915158,2.36E-4,0.0,0.002975637,0.0,0.114361006,0.008274232,1.0,1.0,85.0,0.0,20757.0,4990.0,6.0,0.992785571,0.157953592])"
     ]
    }
   ],
   "source": [
    "test.take(10).foreach(println(_))"
   ]
  },
  {
   "cell_type": "code",
   "execution_count": null,
   "metadata": {
    "collapsed": true
   },
   "outputs": [],
   "source": []
  }
 ],
 "metadata": {
  "kernelspec": {
   "display_name": "Spark",
   "language": "",
   "name": "sparkkernel"
  },
  "language_info": {
   "codemirror_mode": "text/x-scala",
   "mimetype": "text/x-scala",
   "name": "scala",
   "pygments_lexer": "scala"
  },
  "widgets": {
   "state": {},
   "version": "1.1.2"
  }
 },
 "nbformat": 4,
 "nbformat_minor": 1
}
