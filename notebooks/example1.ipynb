{
 "cells": [
  {
   "cell_type": "code",
   "execution_count": 6,
   "metadata": {
    "collapsed": false
   },
   "outputs": [],
   "source": [
    "%cleanup -f"
   ]
  },
  {
   "cell_type": "code",
   "execution_count": 7,
   "metadata": {
    "collapsed": false
   },
   "outputs": [
    {
     "data": {
      "text/html": [
       "Current session configs: <tt>{u'jars': [u'/user/livy/repl_jars/dl4j-assembly-0.6.0.jar'], u'executorMemory': u'2g', u'kind': 'spark', u'conf': {u'spark.driver.extraClassPath': u'/home/livy/dl4j-assembly-0.6.0.jar', u'spark.kryo.registrator': u'org.nd4j.Nd4jRegistrator', u'spark.serializer': u'org.apache.spark.serializer.KryoSerializer'}, u'driverMemory': u'3g'}</tt><br>"
      ],
      "text/plain": [
       "<IPython.core.display.HTML object>"
      ]
     },
     "metadata": {},
     "output_type": "display_data"
    },
    {
     "data": {
      "text/html": [
       "No active sessions."
      ],
      "text/plain": [
       "<IPython.core.display.HTML object>"
      ]
     },
     "metadata": {},
     "output_type": "display_data"
    }
   ],
   "source": [
    "%%configure -f\n",
    "{\"jars\":[\"/user/livy/repl_jars/dl4j-assembly-0.6.0.jar\"],\"driverMemory\":\"3g\",\"executorMemory\":\"2g\",\"conf\":{\"spark.driver.extraClassPath\":\"/home/livy/dl4j-assembly-0.6.0.jar\",\"spark.serializer\":\"org.apache.spark.serializer.KryoSerializer\",\"spark.kryo.registrator\":\"org.nd4j.Nd4jRegistrator\"}}"
   ]
  },
  {
   "cell_type": "code",
   "execution_count": 8,
   "metadata": {
    "collapsed": false
   },
   "outputs": [
    {
     "name": "stdout",
     "output_type": "stream",
     "text": [
      "Starting Spark application\n"
     ]
    },
    {
     "data": {
      "text/html": [
       "<table>\n",
       "<tr><th>ID</th><th>YARN Application ID</th><th>Kind</th><th>State</th><th>Spark UI</th><th>Driver log</th><th>Current session?</th></tr><tr><td>1</td><td>application_1477665064581_0005</td><td>spark</td><td>idle</td><td><a target=\"_blank\" href=\"https://snowwhite.fairytales:8090/proxy/application_1477665064581_0005/\">Link</a></td><td><a target=\"_blank\" href=\"//sleepy.fairytales:8044/node/containerlogs/container_1477665064581_0005_01_000001/dgreco\">Link</a></td><td>✔</td></tr></table>"
      ],
      "text/plain": [
       "<IPython.core.display.HTML object>"
      ]
     },
     "metadata": {},
     "output_type": "display_data"
    },
    {
     "name": "stdout",
     "output_type": "stream",
     "text": [
      "SparkContext available as 'sc'.\n",
      "SqlContext available as 'sqlContext'.\n",
      "res2: org.apache.spark.SparkContext = org.apache.spark.SparkContext@195b735f"
     ]
    }
   ],
   "source": [
    "sc"
   ]
  },
  {
   "cell_type": "code",
   "execution_count": 9,
   "metadata": {
    "collapsed": false
   },
   "outputs": [
    {
     "name": "stdout",
     "output_type": "stream",
     "text": [
      "import org.nd4j.linalg.lossfunctions.LossFunctions"
     ]
    }
   ],
   "source": [
    "import java.io.{ ByteArrayInputStream, ByteArrayOutputStream, File }\n",
    "import java.util.UUID\n",
    "\n",
    "import org.apache.hadoop.io.{ BytesWritable, Text }\n",
    "import org.apache.spark.rdd.RDD\n",
    "import org.apache.spark.{ SparkConf, SparkContext }\n",
    "import org.deeplearning4j.datasets.iterator.impl.MnistDataSetIterator\n",
    "import org.deeplearning4j.nn.api.OptimizationAlgorithm\n",
    "import org.deeplearning4j.nn.conf.layers.{ DenseLayer, OutputLayer }\n",
    "import org.deeplearning4j.nn.conf.{ NeuralNetConfiguration, Updater }\n",
    "import org.deeplearning4j.nn.weights.WeightInit\n",
    "import org.deeplearning4j.spark.api.{ Repartition, RepartitionStrategy }\n",
    "import org.deeplearning4j.spark.impl.multilayer.SparkDl4jMultiLayer\n",
    "import org.deeplearning4j.spark.impl.paramavg.ParameterAveragingTrainingMaster\n",
    "import org.deeplearning4j.spark.stats.StatsUtils\n",
    "import org.nd4j.linalg.dataset.DataSet\n",
    "import org.nd4j.linalg.lossfunctions.LossFunctions"
   ]
  },
  {
   "cell_type": "code",
   "execution_count": 10,
   "metadata": {
    "collapsed": false
   },
   "outputs": [
    {
     "name": "stdout",
     "output_type": "stream",
     "text": [
      "res10: trainData.type = MapPartitionsRDD[3] at map at <console>:48"
     ]
    }
   ],
   "source": [
    "val batchSizePerWorker = 32\n",
    "  val seed = 12345\n",
    "\n",
    "  import collection.convert.decorateAsScala._\n",
    "\n",
    "  val iter = new MnistDataSetIterator(batchSizePerWorker, true, seed)\n",
    "  val data = iter.asScala.toList\n",
    "\n",
    "  val rdd: RDD[DataSet] = sc.parallelize[DataSet](data)\n",
    "\n",
    "  val forSequenceFile = rdd.map(dataset => {\n",
    "    val baos = new ByteArrayOutputStream()\n",
    "    dataset.save(baos)\n",
    "    val bytes = baos.toByteArray\n",
    "    (new Text(UUID.randomUUID().toString), new BytesWritable(bytes))\n",
    "  })\n",
    "  forSequenceFile.saveAsSequenceFile(\"./MnistMLPPreprocessed\", None)\n",
    "\n",
    "  val sequenceFile = sc.sequenceFile(\"./MnistMLPPreprocessed\", classOf[Text], classOf[BytesWritable])\n",
    "  val trainData = sequenceFile.map(pair => {\n",
    "    val ds = new DataSet()\n",
    "    val bais = new ByteArrayInputStream(pair._2.getBytes)\n",
    "    ds.load(bais)\n",
    "    ds\n",
    "  })\n",
    "  trainData.cache()"
   ]
  },
  {
   "cell_type": "code",
   "execution_count": 11,
   "metadata": {
    "collapsed": false
   },
   "outputs": [
    {
     "name": "stdout",
     "output_type": "stream",
     "text": [
      "nnconf: org.deeplearning4j.nn.conf.MultiLayerConfiguration = \n",
      "{\n",
      "  \"backprop\" : true,\n",
      "  \"backpropType\" : \"Standard\",\n",
      "  \"confs\" : [ {\n",
      "    \"extraArgs\" : [ 0 ],\n",
      "    \"l1ByParam\" : { },\n",
      "    \"l2ByParam\" : { },\n",
      "    \"layer\" : {\n",
      "      \"dense\" : {\n",
      "        \"activationFunction\" : \"relu\",\n",
      "        \"adamMeanDecay\" : \"NaN\",\n",
      "        \"adamVarDecay\" : \"NaN\",\n",
      "        \"biasInit\" : 0.0,\n",
      "        \"biasL1\" : 0.0,\n",
      "        \"biasL2\" : 0.0,\n",
      "        \"biasLearningRate\" : 0.0069,\n",
      "        \"dist\" : null,\n",
      "        \"dropOut\" : 0.0,\n",
      "        \"epsilon\" : \"NaN\",\n",
      "        \"gradientNormalization\" : \"None\",\n",
      "        \"gradientNormalizationThreshold\" : 1.0,\n",
      "        \"l1\" : 0.0,\n",
      "        \"l2\" : 1.0E-4,\n",
      "        \"layerName\" : null,\n",
      "        \"learningRate\" : 0.0069,\n",
      "        \"learningRateSchedule\" : null,\n",
      "        \"momentum\" : 0.9,\n",
      "        \"mo..."
     ]
    }
   ],
   "source": [
    "val nnconf = new NeuralNetConfiguration.Builder().\n",
    "     seed(12345).\n",
    "     optimizationAlgo(OptimizationAlgorithm.STOCHASTIC_GRADIENT_DESCENT).\n",
    "     iterations(1).\n",
    "     activation(\"relu\").\n",
    "     weightInit(WeightInit.XAVIER).\n",
    "     learningRate(0.0069).\n",
    "     updater(Updater.NESTEROVS).momentum(0.9).\n",
    "     regularization(true).l2(1e-4).\n",
    "     list().\n",
    "     layer(0, new DenseLayer.Builder().nIn(28 * 28).nOut(500).build()).\n",
    "     layer(1, new DenseLayer.Builder().nIn(500).nOut(100).build()).\n",
    "     layer(2, new OutputLayer.Builder(LossFunctions.LossFunction.NEGATIVELOGLIKELIHOOD).\n",
    "     activation(\"softmax\").nIn(100).nOut(10).build()).\n",
    "     pretrain(false).backprop(true).\n",
    "     build()"
   ]
  },
  {
   "cell_type": "code",
   "execution_count": 12,
   "metadata": {
    "collapsed": false
   },
   "outputs": [
    {
     "name": "stdout",
     "output_type": "stream",
     "text": [
      "tm: org.deeplearning4j.spark.impl.paramavg.ParameterAveragingTrainingMaster = ParameterAveragingTrainingMaster(saveUpdater=true, numWorkers=null, rddDataSetNumExamples=32, batchSizePerWorker=32, averagingFrequency=10, prefetchNumBatches=2, collectTrainingStats=false, stats=null, listeners=null, iterationCount=0, repartition=Always, repartitionStrategy=SparkDefault, storageLevel=StorageLevel(false, true, false, false, 1), storageLevelStreams=StorageLevel(false, true, false, true, 1), rddTrainingApproach=Export, exportDirectory=null, rng=java.util.Random@4f7f77f3, lastExportedRDDId=-2147483648, lastRDDExportPath=null, trainingMasterUID=1477669808919_4a31e182)"
     ]
    }
   ],
   "source": [
    "val tm = new ParameterAveragingTrainingMaster.Builder(batchSizePerWorker).\n",
    "    averagingFrequency(10).\n",
    "    saveUpdater(true).\n",
    "    workerPrefetchNumBatches(2).\n",
    "    batchSizePerWorker(batchSizePerWorker).\n",
    "    repartionData(Repartition.Always).\n",
    "    repartitionStrategy(RepartitionStrategy.SparkDefault).\n",
    "    build()"
   ]
  },
  {
   "cell_type": "code",
   "execution_count": null,
   "metadata": {
    "collapsed": false
   },
   "outputs": [
    {
     "name": "stdout",
     "output_type": "stream",
     "text": [
      "sparkNet: org.deeplearning4j.spark.impl.multilayer.SparkDl4jMultiLayer = org.deeplearning4j.spark.impl.multilayer.SparkDl4jMultiLayer@78308d07"
     ]
    }
   ],
   "source": [
    "val sparkNet = new SparkDl4jMultiLayer(sc, nnconf, tm)"
   ]
  },
  {
   "cell_type": "code",
   "execution_count": null,
   "metadata": {
    "collapsed": false
   },
   "outputs": [],
   "source": [
    "for (i <- 0 to 10) {\n",
    "    val _ = sparkNet.fit(trainData)\n",
    "}"
   ]
  },
  {
   "cell_type": "code",
   "execution_count": null,
   "metadata": {
    "collapsed": true
   },
   "outputs": [],
   "source": []
  }
 ],
 "metadata": {
  "kernelspec": {
   "display_name": "Spark",
   "language": "",
   "name": "sparkkernel"
  },
  "language_info": {
   "codemirror_mode": "text/x-scala",
   "mimetype": "text/x-scala",
   "name": "scala",
   "pygments_lexer": "scala"
  },
  "widgets": {
   "state": {},
   "version": "1.1.2"
  }
 },
 "nbformat": 4,
 "nbformat_minor": 0
}
